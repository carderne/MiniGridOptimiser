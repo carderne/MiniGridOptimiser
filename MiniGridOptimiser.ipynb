{
 "cells": [
  {
   "cell_type": "markdown",
   "metadata": {},
   "source": [
    "# Mini Grid Optimiser\n",
    "Tool designed to take a small village and estimate the optimum connections, based on a PV installation location and economic data."
   ]
  },
  {
   "cell_type": "markdown",
   "metadata": {},
   "source": [
    "### Enter all input data here"
   ]
  },
  {
   "cell_type": "code",
   "execution_count": null,
   "metadata": {},
   "outputs": [],
   "source": [
    "input_file = \"June/villages/Sipungu.shp\"\n",
    "\n",
    "minimum_area_m2 = 30 # exclude any buildings with area (in m2) below this value\n",
    "\n",
    "cost_wire = 25 # per metre\n",
    "cost_connection = 150 # per node\n",
    "opex_ratio = 0.02 # 2% of the above per year\n",
    "years = 20 # years over which to amortize (and maintain)\n",
    "tariff = 0.25  # USD/kWh\n",
    "\n",
    "demand_per_person_kwh_month = 6 # 6kWh/month = MTF Tier 2\n",
    "demand_per_person_kw_peak = demand_per_person_kwh_month / (4*30)  # 130 4hours/day*30days/month based on MTF numbers, should use a real demand curve\n",
    "gen_cost_per_kw = 7000\n",
    "discount_rate = 0.08\n",
    "\n",
    "num_people_per_m2 = 0.15\n",
    "max_tot_length = 10000 # The furthest a single building can be (in total) from the PV point"
   ]
  },
  {
   "cell_type": "markdown",
   "metadata": {},
   "source": [
    "### Then we do all the necessary Python imports"
   ]
  },
  {
   "cell_type": "code",
   "execution_count": null,
   "metadata": {},
   "outputs": [],
   "source": [
    "%matplotlib inline\n",
    "import numpy as np\n",
    "import pandas as pd\n",
    "from astroML.clustering import HierarchicalClustering, get_graph_segments\n",
    "from shapely.geometry import Point, LineString\n",
    "from math import sqrt\n",
    "from IPython.display import display, Markdown\n",
    "import folium\n",
    "import geopandas as gpd\n",
    "import os.path\n",
    "from zipfile import ZipFile\n",
    "from branca import colormap\n",
    "import matplotlib.pyplot as plt"
   ]
  },
  {
   "cell_type": "code",
   "execution_count": null,
   "metadata": {},
   "outputs": [],
   "source": [
    "buildings = gpd.read_file(input_file)\n",
    "buildings_projected = buildings.copy()\n",
    "# This is the Africa Albers Equal Area Conic EPSG: 102022\n",
    "epsg102022 = '+proj=aea +lat_1=20 +lat_2=-23 +lat_0=0 +lon_0=25 +x_0=0 +y_0=0 +ellps=WGS84 +datum=WGS84 +units=m +no_defs'\n",
    "buildings_projected = buildings_projected.to_crs(epsg102022)\n",
    "\n",
    "buildings_projected[\"area_m2\"] = buildings_projected['geometry'].area\n",
    "buildings_points = buildings_projected.copy()\n",
    "buildings_points.geometry = buildings_points['geometry'].centroid\n",
    "buildings_points['X'] = buildings_points.geometry.x\n",
    "buildings_points['Y'] = buildings_points.geometry.y"
   ]
  },
  {
   "cell_type": "markdown",
   "metadata": {},
   "source": [
    "### Here we display a map of the selected village."
   ]
  },
  {
   "cell_type": "code",
   "execution_count": null,
   "metadata": {},
   "outputs": [],
   "source": [
    "x_mean = buildings.geometry.centroid.x.mean()\n",
    "y_mean = buildings.geometry.centroid.y.mean()\n",
    "village_map = folium.Map([y_mean, x_mean], zoom_start=15, control_scale=True)\n",
    "\n",
    "popup_html = '<h2>Latitude: \" + lat + \"</h2><h2>Longitude: \" + lng + \"</h2><h3>Copy these values into the boxes on the left.</h3>'\n",
    "folium.ClickForMarker(popup=popup_html).add_to(village_map)\n",
    "display(Markdown('### Please click on the desired location for the PV point.'))\n",
    "display(Markdown('### Then click on the marker that appears and copy the values in below (with all decimals values!).'))\n",
    "display(village_map)\n",
    "#village_map.save('empty_map_Karema.html')"
   ]
  },
  {
   "cell_type": "markdown",
   "metadata": {},
   "source": [
    "### Enter the values here:"
   ]
  },
  {
   "cell_type": "code",
   "execution_count": null,
   "metadata": {},
   "outputs": [],
   "source": [
    "latitude = -5.0655\n",
    "longitude = 32.2770"
   ]
  },
  {
   "cell_type": "markdown",
   "metadata": {},
   "source": [
    "### We then take all the houses and calculate the optimum network that connects them all to the PV point, before we start analysing further and deciding on the optimum network."
   ]
  },
  {
   "cell_type": "code",
   "execution_count": null,
   "metadata": {
    "scrolled": false
   },
   "outputs": [],
   "source": [
    "df = pd.DataFrame(buildings_points)\n",
    "df = df.loc[df['area_m2'] > minimum_area_m2]\n",
    "\n",
    "pv_point = gpd.GeoDataFrame(crs={'init': 'epsg:4326'}, geometry=[Point([longitude, latitude])])\n",
    "pv_point_projected = pv_point.copy()\n",
    "pv_point_projected = pv_point_projected.to_crs(epsg102022)\n",
    "pv_point_df = [{'X': pv_point_projected.geometry.x, 'Y': pv_point_projected.geometry.y, 'area_m2': 0}]\n",
    "df = pd.concat([pd.DataFrame(pv_point_df), df], ignore_index=True)\n",
    "points = df[['X', 'Y']].as_matrix()\n",
    "\n",
    "min_cluster = len(df.index) - 1\n",
    "if min_cluster >= 2:\n",
    "    model = HierarchicalClustering(n_neighbors=min_cluster, edge_cutoff=0.9, min_cluster_size=min_cluster)\n",
    "    model.fit(points)\n",
    "    T_x, T_y = get_graph_segments(model.X_train_, model.full_tree_)\n",
    "else:\n",
    "    T_x = [(latitude,), (latitude,)]\n",
    "    T_y = [(longitude,), (longitude,)]\n",
    "\n",
    "fig = plt.figure(figsize=(10, 10))\n",
    "plt.scatter(points[1:, 0], points[1:, 1], s=20, lw=0, c='blue')\n",
    "plt.scatter(points[:1, 0], points[:1, 1], s=80, lw=0, c='green')\n",
    "plt.plot(T_x, T_y, c='red', lw=1)\n",
    "display(Markdown('### A small graph is shown below, with the PV point in green'))\n",
    "\n",
    "fig.axes[0].tick_params(labelbottom=False, labelleft=False)\n",
    "plt.axis('equal')\n",
    "plt.show()"
   ]
  },
  {
   "cell_type": "markdown",
   "metadata": {},
   "source": [
    "### This point and line data is then copied into two arrays, called *nodes* and *network_undirected*, containing the houses and lines, respectively. Each element represents a single house or joining arc, and has data within describing the coordinates and more."
   ]
  },
  {
   "cell_type": "code",
   "execution_count": null,
   "metadata": {},
   "outputs": [],
   "source": [
    "# Structure for network:\n",
    "# 0   index\n",
    "# 1   xs\n",
    "# 2   ys\n",
    "# 3   xe\n",
    "# 4   ye\n",
    "# 5   node index first point\n",
    "# 6   node index last point\n",
    "# 7   whether this arc is directed (0 or 1)\n",
    "# 8   arc length\n",
    "# 9   whether enabled (default to 1)\n",
    "\n",
    "# Structure for nodes:\n",
    "# The PV point is indexed at point 0\n",
    "# 0   index\n",
    "# 1   x\n",
    "# 2   y\n",
    "# 3   area_m2\n",
    "# 4   marginal distance\n",
    "# 5   total distance\n",
    "# 6   connected (default to 0)\n",
    "# 7.. connected arc indices\n",
    "\n",
    "# astype(int) doesn't round - it just chops off the decimals\n",
    "\n",
    "df['area'] = df['area_m2'].astype(int)\n",
    "nodes = df[['X', 'Y', 'area']].reset_index().values.astype(int).tolist()\n",
    "for node in nodes:\n",
    "    # add default 0's for marg_dist, tot_dist and connected\n",
    "    node.extend([0, 0, 0])\n",
    "    \n",
    "\n",
    "counter = 0\n",
    "network_undirected = []\n",
    "for xs, ys, xe, ye in zip(T_x[0], T_y[0], T_x[1], T_y[1]):\n",
    "    network_undirected.append([counter, int(xs), int(ys), int(xe), int(ye), -99, -99, 0, 0, 1])\n",
    "    counter += 1\n",
    "    \n",
    "# add the length for each arc\n",
    "for arc in network_undirected:\n",
    "    arc[8] = sqrt((arc[3] - arc[1])**2 + (arc[4] - arc[2])**2)"
   ]
  },
  {
   "cell_type": "markdown",
   "metadata": {},
   "source": [
    "### Then we need to calculate the directionality of the network, starting from the PV location and reaching outwards to the furthest branches. We use this to calculate, for each node, it's marginal and total distance from the PV location.\n",
    "At the same time, we tell each arc which node is 'upstream' of it, and which is 'downstream'. We also tell each node which arcs (at least one, up to three or four?) it is connected to."
   ]
  },
  {
   "cell_type": "code",
   "execution_count": null,
   "metadata": {},
   "outputs": [],
   "source": [
    "def direct_network(nodes, network, index):\n",
    "    for arc in network:\n",
    "        found = False\n",
    "        if arc[1] == nodes[index][1] and arc[2] == nodes[index][2]:\n",
    "            # make sure we haven't done this arc already!\n",
    "            if arc[7] == 1:\n",
    "                continue\n",
    "            found = True\n",
    "            \n",
    "        elif arc[3] == nodes[index][1] and arc[4] == nodes[index][2]:\n",
    "            # make sure we haven't done this arc already!\n",
    "            if arc[7] == 1:\n",
    "                continue\n",
    "            found = True\n",
    "            \n",
    "            # flip it around because it's pointing the wrong way\n",
    "            xs_new = arc[3]\n",
    "            ys_new = arc[4]\n",
    "            arc[3] = arc[1]\n",
    "            arc[4] = arc[2]\n",
    "            arc[1] = xs_new\n",
    "            arc[2] = ys_new\n",
    "            \n",
    "        if found:    \n",
    "            arc[5] = nodes[index][0] # tell this arc that this node is its starting point\n",
    "            arc[7] = 1 # so we know this arc has been done\n",
    "            arc_index = arc[0] # store arc index to find point at the other end\n",
    "            \n",
    "            for node in nodes:\n",
    "                if node[1] == arc[3] and node[2] == arc[4]:\n",
    "                    arc[6] = node[0] # tell this arc that this node is its ending point\n",
    "                    node[4] = arc[8] # assign arc length to node's marginal distance\n",
    "                    node[5] = nodes[index][5] + arc[8] # and calculate total distance\n",
    "                    \n",
    "                    # If this building exceeds the maximum total length allowed, disable the arc connecting it\n",
    "                    # The later algorithms respect this settings\n",
    "                    if node[5] > max_tot_length:\n",
    "                        arc[9] = 0\n",
    "                    \n",
    "                    nodes, network = direct_network(nodes, network, node[0]) # and investigate downstream from this node\n",
    "                    break\n",
    "    \n",
    "    return nodes, network\n",
    "\n",
    "# network_undirected seems to also be modified, which could be dangerous!\n",
    "\n",
    "nodes, network_directed = direct_network(nodes, network_undirected, 0)\n",
    "\n",
    "# for every node, add references to every arc that connects to it\n",
    "for arc in network_directed:\n",
    "    nodes[arc[5]].append(arc[0])\n",
    "    nodes[arc[6]].append(arc[0])"
   ]
  },
  {
   "cell_type": "markdown",
   "metadata": {},
   "source": [
    "### Here we prepare the algorithm to optimise our network configuration, by pruning network extensions that aren't profitable. Here the economic data should be entered."
   ]
  },
  {
   "cell_type": "code",
   "execution_count": null,
   "metadata": {},
   "outputs": [],
   "source": [
    "# optimisation strategy\n",
    "# cut arcs one by one, see which cut is the *most* profitable, and then take that network and repeat the process\n",
    "# annual income should be specified by the nodes\n",
    "\n",
    "gen_size_kw = df['area_m2'].sum() * num_people_per_m2 * demand_per_person_kw_peak\n",
    "cost_gen = gen_size_kw * gen_cost_per_kw\n",
    "\n",
    "def calculate_profit(nodes, network, index, disabled_arc_index, cost, income_per_month):\n",
    "    # here we recurse through the network and calculate profit\n",
    "    # start with all arcs that connect to the index node, and get the end-nodes for those arcs\n",
    "    # calculate profit on those nodes, and then recurse!\n",
    "    # disabled_arc should be treated as if disabled\n",
    "    \n",
    "    # first calculate tehe profitability of thise node?\n",
    "    cost += cost_wire * nodes[index][4] + cost_connection\n",
    "    income_per_month += nodes[index][3] * num_people_per_m2 * demand_per_person_kwh_month * tariff\n",
    "    \n",
    "    connected_arcs = [network[arc_index] for arc_index in nodes[index][7:]]\n",
    "    for arc in connected_arcs:\n",
    "        if arc[9] == 1 and arc[0] != disabled_arc_index and arc[5] == index:\n",
    "            cost, income_per_month, nodes, network = calculate_profit(nodes, network, arc[6], disabled_arc_index, cost, income_per_month)\n",
    "            \n",
    "    return cost, income_per_month, nodes, network"
   ]
  },
  {
   "cell_type": "markdown",
   "metadata": {},
   "source": [
    "# Run either Strategy 1 --OR-- Strategy 2, not both"
   ]
  },
  {
   "cell_type": "markdown",
   "metadata": {},
   "source": [
    "# Strategy 1: optimize NPV\n",
    "### Then we start with the complete network, and try 'deleting' each arc. Whichever deletion is the most profitable, we make it permanent and repeat the process with the new configuration. This continues until there are no more increases in profitability to be had."
   ]
  },
  {
   "cell_type": "code",
   "execution_count": null,
   "metadata": {
    "scrolled": true
   },
   "outputs": [],
   "source": [
    "best_npv = -9999999\n",
    "counter = 0\n",
    "handle = display(Markdown(f'Most profitable: {best_npv}'), display_id=True)\n",
    "while True:\n",
    "    handle.update(Markdown(f'Most profitable: ${best_npv:.0f}'))\n",
    "    found = False\n",
    "    for arc in network_directed:\n",
    "        # use a recursive function to calculate profitability of network\n",
    "        # this should all be done in a temporary network variable\n",
    "        # and indicate that this arc should be treated as if disabled\n",
    "        cost, income_per_month, nodes, network = calculate_profit(nodes, network_directed, 0, arc[0], 0, 0)\n",
    "\n",
    "        capex = cost_gen + cost\n",
    "        opex = (opex_ratio * capex)\n",
    "        income = income_per_month * 12\n",
    "        profit = income - capex - opex\n",
    "        \n",
    "        flows = np.ones(years) * (income - opex)\n",
    "        flows[0] = -capex\n",
    "        npv = np.npv(discount_rate, flows)\n",
    "        \n",
    "        counter += 1\n",
    "        \n",
    "        # check if this is the most profitable yet\n",
    "        if npv > best_npv:\n",
    "            found = True\n",
    "            best_npv = npv\n",
    "            best_npv_index = arc[0]\n",
    "    if found:\n",
    "        # disable that arc\n",
    "        network_directed[best_npv_index][9] = 0\n",
    "\n",
    "    # now repeat the above steps for the whole network again\n",
    "    # until we go through without finding a more profitable setup than what we already have\n",
    "    else:\n",
    "        break\n",
    "        \n",
    "        \n",
    "display(Markdown(f'Considered {counter} configurations'))"
   ]
  },
  {
   "cell_type": "markdown",
   "metadata": {},
   "source": [
    "# Strategy 2: Target coverage percentage\n",
    "### Here we set a percentage target and keep deleting until we get there, even if we lose profitability"
   ]
  },
  {
   "cell_type": "code",
   "execution_count": null,
   "metadata": {
    "scrolled": false
   },
   "outputs": [],
   "source": [
    "target_coverage = 0.9\n",
    "total_arcs = len(network_directed)\n",
    "actual_coverage = 1  # to start with\n",
    "\n",
    "best_npv = -9999999\n",
    "counter = 0\n",
    "handle = display(Markdown(f'Most profitable: {best_npv}'), display_id=True)\n",
    "while True:\n",
    "    handle.update(Markdown(f'Most profitable: ${best_npv:.0f} with {actual_coverage:.2f}% coverage'))\n",
    "    best_npv = -9999999\n",
    "    found = False\n",
    "    for arc in network_directed:\n",
    "        # use a recursive function to calculate profitability of network\n",
    "        # this should all be done in a temporary network variable\n",
    "        # and indicate that this arc should be treated as if disabled\n",
    "        cost, income_per_month, nodes, network = calculate_profit(nodes, network_directed, 0, arc[0], 0, 0)\n",
    "\n",
    "        capex = cost_gen + cost\n",
    "        opex = (opex_ratio * capex)\n",
    "        income = income_per_month * 12\n",
    "        profit = income - capex - opex\n",
    "        \n",
    "        flows = np.ones(years) * (income - opex)\n",
    "        flows[0] = -capex\n",
    "        npv = np.npv(discount_rate, flows)\n",
    "        \n",
    "        counter += 1\n",
    "\n",
    "        # check if this is the most profitable yet\n",
    "        if npv > best_npv and arc[9] == 1:\n",
    "            found = True\n",
    "            best_npv = npv\n",
    "            best_npv_index = arc[0]\n",
    "            \n",
    "    if found:\n",
    "        # disable that arc\n",
    "        network_directed[best_npv_index][9] = 0\n",
    "\n",
    "    actual_coverage = len([arc for arc in network_directed if arc[9] == 1])/total_arcs\n",
    "    if actual_coverage <= target_coverage:\n",
    "        break\n",
    "        \n",
    "display(Markdown(f'Considered {counter} configurations'))"
   ]
  },
  {
   "cell_type": "markdown",
   "metadata": {},
   "source": [
    "### Then we disconnect all the houses that are no longer served by active arcs, and prune any stranded arcs that remained on un-connected paths."
   ]
  },
  {
   "cell_type": "code",
   "execution_count": null,
   "metadata": {},
   "outputs": [],
   "source": [
    "# now we need to tell the houses that aren't connected, that they aren't connected (or vice-versa)\n",
    "# recurse from the starting point and ID connected houses as connected?\n",
    "def connect_houses(nodes, network, index):\n",
    "    # start from base, follow connection (similar to calculate_profit) and swith node[6] to 1 wherever connected\n",
    "    # and only follow the paths of connected houses\n",
    "    \n",
    "    # this node is connected\n",
    "    nodes[index][6] = 1\n",
    "    \n",
    "    connected_arcs = [network[arc_index] for arc_index in nodes[index][7:]]\n",
    "    for arc in connected_arcs:\n",
    "        if arc[9] == 1 and arc[5] == index:\n",
    "            connect_houses(nodes, network, arc[6])\n",
    "            \n",
    "    return nodes, network\n",
    "    \n",
    "nodes, network_directed = connect_houses(nodes, network_directed, 0)\n",
    "\n",
    "# and do the same for the stranded arcs\n",
    "for node in nodes:\n",
    "    if node[6] == 0:\n",
    "        connected_arcs = [network[arc_index] for arc_index in node[7:]]\n",
    "        for arc in connected_arcs:\n",
    "            arc[9] = 0"
   ]
  },
  {
   "cell_type": "code",
   "execution_count": null,
   "metadata": {},
   "outputs": [],
   "source": [
    "len([n for n in nodes if n[6] == 1]), len(nodes)"
   ]
  },
  {
   "cell_type": "markdown",
   "metadata": {},
   "source": [
    "### And calculate some quick summary numbers for the village"
   ]
  },
  {
   "cell_type": "code",
   "execution_count": null,
   "metadata": {},
   "outputs": [],
   "source": [
    "# create a quick report\n",
    "# number connected, length of line, total profit over ten years\n",
    "count_nodes = 0\n",
    "income_per_month = 0\n",
    "gen_size_kw = 0\n",
    "for node in nodes:\n",
    "    if node[6] == 1:\n",
    "        count_nodes += 1\n",
    "        income_per_month += node[3] * num_people_per_m2 * demand_per_person_kwh_month * tariff\n",
    "        gen_size_kw += node[3] * num_people_per_m2 * demand_per_person_kw_peak\n",
    "        \n",
    "total_length = 0.0\n",
    "for arc in network_directed:\n",
    "    if arc[9] == 1:\n",
    "        total_length += arc[8]\n",
    "\n",
    "capex = gen_size_kw * gen_cost_per_kw + cost_connection * count_nodes + cost_wire * total_length\n",
    "opex = (opex_ratio * capex)\n",
    "income = income_per_month * 12\n",
    "\n",
    "flows = np.ones(years) * (income - opex)\n",
    "flows[0] = -capex\n",
    "npv = np.npv(discount_rate, flows)"
   ]
  },
  {
   "cell_type": "markdown",
   "metadata": {},
   "source": [
    "### And then do a spatial join to get the results back into a polygon shapefile"
   ]
  },
  {
   "cell_type": "code",
   "execution_count": null,
   "metadata": {},
   "outputs": [],
   "source": [
    "# join the resultant points with the orignal buildings_projected\n",
    "\n",
    "# create geometries from X and Y points and create gdf\n",
    "nodes_for_df = [node[0:7] for node in nodes] # drop the extra columsn that will confuse a df\n",
    "nodes_df = pd.DataFrame(columns=['idx', 'X', 'Y', 'income', 'marg_dist', 'tot_dist',\n",
    "                                  'connected'], data=nodes_for_df)\n",
    "nodes_geometry = [Point(xy) for xy in zip(nodes_df['X'], nodes_df['Y'])]\n",
    "nodes_gdf = gpd.GeoDataFrame(nodes_df, crs=buildings_projected.crs, geometry=nodes_geometry)\n",
    "\n",
    "# do the same for the network array\n",
    "network_df = pd.DataFrame(columns=['idx', 'xs', 'ys', 'xe', 'ye', 'node_start', 'node_end',\n",
    "                                   'directed', 'length', 'enabled'], data=network)\n",
    "LineString([(arc[1], arc[2]), (arc[3], arc[4])])\n",
    "network_geometry = [LineString([(arc[1], arc[2]), (arc[3], arc[4])]) for arc in network]\n",
    "network_gdf = gpd.GeoDataFrame(network_df, crs=buildings_projected.crs, geometry=network_geometry)\n",
    "\n",
    "# buffer with 2m in case a centroid hits a gap in a house\n",
    "nodes_buffered = nodes_gdf.copy()\n",
    "nodes_buffered['geometry'] = nodes_buffered.geometry.buffer(2)\n",
    "buildings_joined = gpd.sjoin(buildings_projected, nodes_buffered, op='intersects')"
   ]
  },
  {
   "cell_type": "markdown",
   "metadata": {},
   "source": [
    "### Before mapping the results and saving the output into two shapefiles!"
   ]
  },
  {
   "cell_type": "code",
   "execution_count": null,
   "metadata": {
    "scrolled": false
   },
   "outputs": [],
   "source": [
    "# project back to an unprojected (i.e., in degrees) CRS\n",
    "network_wgs84 = network_gdf.copy()\n",
    "network_wgs84 = network_wgs84.to_crs(epsg=4326)\n",
    "network_wgs84 = network_wgs84.loc[network_wgs84['enabled'] == 1]\n",
    "\n",
    "buildings_wgs84 = buildings_joined.copy()\n",
    "buildings_wgs84 = buildings_wgs84.to_crs(epsg=4326)\n",
    "buildings_wgs84 = buildings_wgs84.loc[buildings_wgs84['connected'] == 1]\n",
    "\n",
    "nodes_wgs84 = nodes_gdf.copy()\n",
    "nodes_wgs84 = nodes_wgs84.to_crs(epsg=4326)\n",
    "nodes_wgs84 = nodes_wgs84.loc[nodes_wgs84['connected'] == 1]\n",
    "\n",
    "village_map = folium.Map([y_mean+0.0007, x_mean+0.001], zoom_start=16, control_scale=True)\n",
    "\n",
    "folium.GeoJson(network_wgs84).add_to(village_map)\n",
    "\n",
    "icon = folium.Icon(icon='bolt', color='green', prefix='fa')\n",
    "folium.Marker([latitude, longitude], icon=icon, popup='PV plant location').add_to(village_map)\n",
    "\n",
    "def highlight_function(feature):\n",
    "    return {\n",
    "        'fillColor': '#b2e2e2',\n",
    "        'fillOpacity': 0.5,\n",
    "        'color': 'black',\n",
    "        'weight': 3,\n",
    "    }\n",
    "\n",
    "styles = []\n",
    "for index, row in buildings_wgs84.iterrows():\n",
    "    if row['income'] > 300:\n",
    "        fill_color = '#006d2c'\n",
    "    elif row['income'] > 180:\n",
    "        fill_color = '#2ca25f'\n",
    "    elif row['income'] > 100:\n",
    "        fill_color = '#66c2a4'\n",
    "    elif row['income'] > 40:\n",
    "        fill_color = '#b2e2e2'\n",
    "    else:\n",
    "        fill_color = '#edf8fb'\n",
    "    styles.append({'fillColor': fill_color, 'weight': 1, 'color': 'black', 'fillOpacity': 1})\n",
    "    \n",
    "buildings_wgs84['style'] = styles\n",
    "folium.GeoJson(buildings_wgs84, highlight_function=highlight_function).add_to(village_map)\n",
    "\n",
    "display(Markdown(f'Total houses connected: {count_nodes} out of {len(nodes)-1}'))\n",
    "display(Markdown(f'Generator installation size: {gen_size_kw:.0f} kW'))\n",
    "display(Markdown(f'Total length of lines is {total_length:.0f}m'))\n",
    "display(Markdown(f'CAPEX: ${capex:.0f}'))\n",
    "display(Markdown(f'Annual OPEX: ${opex:.0f}'))\n",
    "display(Markdown(f'Annual Income: ${income:.0f}'))\n",
    "display(Markdown(f'**NPV over {years} years is ${npv:.0f}**'))\n",
    "display(village_map)"
   ]
  }
 ],
 "metadata": {
  "kernelspec": {
   "display_name": "Python 3",
   "language": "python",
   "name": "python3"
  },
  "language_info": {
   "codemirror_mode": {
    "name": "ipython",
    "version": 3
   },
   "file_extension": ".py",
   "mimetype": "text/x-python",
   "name": "python",
   "nbconvert_exporter": "python",
   "pygments_lexer": "ipython3",
   "version": "3.6.4"
  }
 },
 "nbformat": 4,
 "nbformat_minor": 2
}
