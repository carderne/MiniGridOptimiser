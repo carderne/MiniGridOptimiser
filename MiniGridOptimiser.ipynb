{
 "cells": [
  {
   "cell_type": "markdown",
   "metadata": {},
   "source": [
    "# Mini Grid Optimiser\n",
    "Tool designed to take a small village and estimate the optimum connections, based on a PV installation location and economic data."
   ]
  },
  {
   "cell_type": "markdown",
   "metadata": {},
   "source": [
    "### Enter all input data here"
   ]
  },
  {
   "cell_type": "code",
   "execution_count": null,
   "metadata": {},
   "outputs": [],
   "source": [
    "input_file = \"shp/OSM_Nakiu_buildings.shp\"\n",
    "minimum_area_m2 = 20 # exclude any buildings with area (in m2) below this value\n",
    "\n",
    "demand_multiplier = 1 # the expected income in USD/year as a multiplier of a house's roof size\n",
    "price_pv_multiplier = 0.25 # as a multiplier of the total roof area of the village (after filtering)\n",
    "price_wire = 10 # per metre\n",
    "price_conn = 100 # per node\n",
    "price_maintenance = 0.02 # 2% of the above per year\n",
    "years = 10 # years over which to amortize (and maintain)\n",
    "max_tot_length = 10000000 # The furthest a single building can be (in total) from the PV point\n",
    "\n",
    "output_file_buildings = \"shp/Nakiu_buildings_connected.shp\"\n",
    "output_file_network = \"shp/Nakiu_network_calculated.shp\"\n",
    "output_file_pv = \"shp/Nakiu_pv_point.shp\""
   ]
  },
  {
   "cell_type": "markdown",
   "metadata": {},
   "source": [
    "### Then we do all the necessary Python imports"
   ]
  },
  {
   "cell_type": "code",
   "execution_count": null,
   "metadata": {},
   "outputs": [],
   "source": [
    "%matplotlib inline\n",
    "import numpy as np\n",
    "import pandas as pd\n",
    "import matplotlib.pyplot as plt\n",
    "from astroML.clustering import HierarchicalClustering, get_graph_segments\n",
    "from shapely.geometry import Point, LineString\n",
    "from math import sqrt\n",
    "from IPython.display import display, Markdown\n",
    "import folium\n",
    "import geopandas as gpd"
   ]
  },
  {
   "cell_type": "code",
   "execution_count": null,
   "metadata": {},
   "outputs": [],
   "source": [
    "buildings = gpd.read_file(input_file)\n",
    "buildings_projected = buildings.copy()\n",
    "# This is the Africa Albers Equal Area Conic EPSG: 102022\n",
    "epsg102022 = '+proj=aea +lat_1=20 +lat_2=-23 +lat_0=0 +lon_0=25 +x_0=0 +y_0=0 +ellps=WGS84 +datum=WGS84 +units=m +no_defs'\n",
    "buildings_projected = buildings_projected.to_crs(epsg102022)\n",
    "\n",
    "buildings_projected[\"area_m2\"] = buildings_projected['geometry'].area\n",
    "buildings_points = buildings_projected.copy()\n",
    "buildings_points.geometry = buildings_points['geometry'].centroid\n",
    "buildings_points['X'] = buildings_points.geometry.x\n",
    "buildings_points['Y'] = buildings_points.geometry.y"
   ]
  },
  {
   "cell_type": "markdown",
   "metadata": {},
   "source": [
    "### Here we display a map of the selected village."
   ]
  },
  {
   "cell_type": "code",
   "execution_count": null,
   "metadata": {},
   "outputs": [],
   "source": [
    "x_mean = buildings.geometry.centroid.x.mean()\n",
    "y_mean = buildings.geometry.centroid.y.mean()\n",
    "village_map = folium.Map([y_mean, x_mean], zoom_start=15)\n",
    "folium.ClickForMarker().add_to(village_map)\n",
    "display(Markdown('### Please click on the desired location for the PV point.'))\n",
    "display(Markdown('### Then click on the marker that appears and copy the values in below (with all decimals values!).'))\n",
    "display(village_map)"
   ]
  },
  {
   "cell_type": "markdown",
   "metadata": {},
   "source": [
    "### Enter the values here:"
   ]
  },
  {
   "cell_type": "code",
   "execution_count": null,
   "metadata": {},
   "outputs": [],
   "source": [
    "latitude = -9.6297\n",
    "longitude = 39.1873"
   ]
  },
  {
   "cell_type": "markdown",
   "metadata": {},
   "source": [
    "### We then take all the houses and calculate the optimum network that connects them all to the PV point, before we start analysing further and deciding on the optimum network."
   ]
  },
  {
   "cell_type": "code",
   "execution_count": null,
   "metadata": {
    "scrolled": false
   },
   "outputs": [],
   "source": [
    "df = pd.DataFrame(buildings_points)\n",
    "df = df.loc[df['area_m2'] > minimum_area_m2]\n",
    "\n",
    "pv_point = gpd.GeoDataFrame(crs={'init': 'epsg:4326'}, geometry=[Point([longitude, latitude])])\n",
    "pv_point_projected = pv_point.copy()\n",
    "pv_point_projected = pv_point_projected.to_crs(epsg102022)\n",
    "pv_point_df = [{'X': pv_point_projected.geometry.x, 'Y': pv_point_projected.geometry.y, 'area_m2': 0}]\n",
    "df = pd.concat([pd.DataFrame(pv_point_df), df], ignore_index=True)\n",
    "points = df[['X', 'Y']].as_matrix()\n",
    "\n",
    "model = HierarchicalClustering(n_neighbors=10, edge_cutoff=0.9, min_cluster_size=10)\n",
    "model.fit(points)\n",
    "T_x, T_y = get_graph_segments(model.X_train_, model.full_tree_)\n",
    "\n",
    "fig = plt.figure(figsize=(10, 10))\n",
    "plt.scatter(points[1:, 0], points[1:, 1], s=20, lw=0, c='blue')\n",
    "plt.scatter(points[:1, 0], points[:1, 1], s=80, lw=0, c='green')\n",
    "plt.plot(T_x, T_y, c='red', lw=1)\n",
    "display(Markdown('### A small graph is shown below, with the PV point in green'))\n",
    "\n",
    "fig.axes[0].tick_params(labelbottom=False, labelleft=False)\n",
    "plt.axis('equal')\n",
    "plt.show()"
   ]
  },
  {
   "cell_type": "markdown",
   "metadata": {},
   "source": [
    "### This point and line data is then copied into two arrays, called *nodes* and *network_undirected*, containing the houses and lines, respectively. Each element represents a single house or joining arc, and has data within describing the coordinates and more."
   ]
  },
  {
   "cell_type": "code",
   "execution_count": null,
   "metadata": {},
   "outputs": [],
   "source": [
    "# Structure for network:\n",
    "# 0   index\n",
    "# 1   xs\n",
    "# 2   ys\n",
    "# 3   xe\n",
    "# 4   ye\n",
    "# 5   node index first point\n",
    "# 6   node index last point\n",
    "# 7   whether this arc is directed (0 or 1)\n",
    "# 8   arc length\n",
    "# 9   whether enabled (default to 1)\n",
    "\n",
    "# Structure for nodes:\n",
    "# The PV point is indexed at point 0\n",
    "# 0   index\n",
    "# 1   x\n",
    "# 2   y\n",
    "# 3   income\n",
    "# 4   marginal distance\n",
    "# 5   total distance\n",
    "# 6   connected (default to 0)\n",
    "# 7.. connected arc indices\n",
    "\n",
    "# astype(int) doesn't round - it just chops off the decimals\n",
    "\n",
    "df['income'] = df['area_m2'].astype(int) * demand_multiplier\n",
    "nodes = df[['X', 'Y', 'income']].reset_index().values.astype(int).tolist()\n",
    "for node in nodes:\n",
    "    # add default 0's for marg_dist, tot_dist and connected\n",
    "    node.extend([0, 0, 0])\n",
    "    \n",
    "\n",
    "counter = 0\n",
    "network_undirected = []\n",
    "for xs, ys, xe, ye in zip(T_x[0], T_y[0], T_x[1], T_y[1]):\n",
    "    network_undirected.append([counter, int(xs), int(ys), int(xe), int(ye), -99, -99, 0, 0, 1])\n",
    "    counter += 1\n",
    "    \n",
    "# add the length for each arc\n",
    "for arc in network_undirected:\n",
    "    arc[8] = sqrt((arc[3] - arc[1])**2 + (arc[4] - arc[2])**2)"
   ]
  },
  {
   "cell_type": "markdown",
   "metadata": {},
   "source": [
    "### Then we need to calculate the directionality of the network, starting from the PV location and reaching outwards to the furthest branches. We use this to calculate, for each node, it's marginal and total distance from the PV location.\n",
    "At the same time, we tell each arc which node is 'upstream' of it, and which is 'downstream'. We also tell each node which arcs (at least one, up to three or four?) it is connected to."
   ]
  },
  {
   "cell_type": "code",
   "execution_count": null,
   "metadata": {},
   "outputs": [],
   "source": [
    "def direct_network(nodes, network, index):\n",
    "    for arc in network:\n",
    "        found = False\n",
    "        if arc[1] == nodes[index][1] and arc[2] == nodes[index][2]:\n",
    "            # make sure we haven't done this arc already!\n",
    "            if arc[7] == 1:\n",
    "                continue\n",
    "            found = True\n",
    "            \n",
    "        elif arc[3] == nodes[index][1] and arc[4] == nodes[index][2]:\n",
    "            # make sure we haven't done this arc already!\n",
    "            if arc[7] == 1:\n",
    "                continue\n",
    "            found = True\n",
    "            \n",
    "            # flip it around because it's pointing the wrong way\n",
    "            xs_new = arc[3]\n",
    "            ys_new = arc[4]\n",
    "            arc[3] = arc[1]\n",
    "            arc[4] = arc[2]\n",
    "            arc[1] = xs_new\n",
    "            arc[2] = ys_new\n",
    "            \n",
    "        if found:    \n",
    "            arc[5] = nodes[index][0] # tell this arc that this node is its starting point\n",
    "            arc[7] = 1 # so we know this arc has been done\n",
    "            arc_index = arc[0] # store arc index to find point at the other end\n",
    "            \n",
    "            for node in nodes:\n",
    "                if node[1] == arc[3] and node[2] == arc[4]:\n",
    "                    arc[6] = node[0] # tell this arc that this node is its ending point\n",
    "                    node[4] = arc[8] # assign arc length to node's marginal distance\n",
    "                    node[5] = nodes[index][5] + arc[8] # and calculate total distance\n",
    "                    \n",
    "                    # If this building exceeds the maximum total length allowed, disable the arc connecting it\n",
    "                    # The later algorithms respect this settings\n",
    "                    if node[5] > max_tot_length:\n",
    "                        arc[9] = 0\n",
    "                    \n",
    "                    nodes, network = direct_network(nodes, network, node[0]) # and investigate downstream from this node\n",
    "                    break\n",
    "    \n",
    "    return nodes, network\n",
    "\n",
    "# network_undirected seems to also be modified, which could be dangerous!\n",
    "\n",
    "nodes, network_directed = direct_network(nodes, network_undirected, 0)\n",
    "\n",
    "# for every node, add references to every arc that connects to it\n",
    "for arc in network_directed:\n",
    "    nodes[arc[5]].append(arc[0])\n",
    "    nodes[arc[6]].append(arc[0])"
   ]
  },
  {
   "cell_type": "markdown",
   "metadata": {},
   "source": [
    "### Here we prepare the algorithm to optimise our network configuration, by pruning network extensions that aren't profitable. Here the economic data should be entered."
   ]
  },
  {
   "cell_type": "code",
   "execution_count": null,
   "metadata": {},
   "outputs": [],
   "source": [
    "# optimisation strategy #2\n",
    "# cut arcs one by one, see which cut is the *most* profitable, and then take that network and repeat the process\n",
    "# annual income should be specified by the nodes\n",
    "\n",
    "def calculate_profit(nodes, network, index, disabled_arc_index, cost, income):\n",
    "    # here we recurse through the network and calculate profit\n",
    "    # start with all arcs that connect to the index node, and get the end-nodes for those arcs\n",
    "    # calculate profit on those nodes, and then recurse!\n",
    "    # disabled_arc should be treated as if disabled\n",
    "    \n",
    "    # first calculate tehe profitability of thise node?\n",
    "    cost += price_wire * nodes[index][4] + price_conn\n",
    "    income += nodes[index][3]\n",
    "    \n",
    "    connected_arcs = [network[arc_index] for arc_index in nodes[index][7:]]\n",
    "    for arc in connected_arcs:\n",
    "        if arc[9] == 1 and arc[0] != disabled_arc_index and arc[5] == index:\n",
    "            cost, income, nodes, network = calculate_profit(nodes, network, arc[6], disabled_arc_index, cost, income)\n",
    "            \n",
    "    return cost, income, nodes, network"
   ]
  },
  {
   "cell_type": "markdown",
   "metadata": {},
   "source": [
    "### Then we start with the complete network, and try 'deleting' each arc. Whichever deletion is the most profitable, we make it permanent and repeat the process with the new configuration. This continues until there are no more increases in profitability to be had."
   ]
  },
  {
   "cell_type": "code",
   "execution_count": null,
   "metadata": {
    "scrolled": false
   },
   "outputs": [],
   "source": [
    "price_pv = df['area_m2'].sum() * price_pv_multiplier\n",
    "\n",
    "most_profitable = -9999999\n",
    "handle = display(Markdown(f'Most profitable: {most_profitable}'), display_id=True)\n",
    "while True:\n",
    "    handle.update(Markdown(f'Most profitable: ${most_profitable:.0f}'))\n",
    "    found = False\n",
    "    for arc in network_directed:\n",
    "        # use a recursive function to calculate profitability of network\n",
    "        # this should all be done in a temporary network variable\n",
    "        # and indicate that this arc should be treated as if disabled\n",
    "        cost, income, nodes, network = calculate_profit(nodes, network_directed, 0, arc[0], 0, 0)\n",
    "\n",
    "        capex = price_pv + cost\n",
    "        opex = (price_maintenance * capex) * years\n",
    "        total_income = income * years\n",
    "        profit = total_income - capex - opex\n",
    "        \n",
    "        # check if this is the most profitableb yet\n",
    "        if profit > most_profitable:\n",
    "            found = True\n",
    "            most_profitable = profit\n",
    "            most_profitable_index = arc[0]\n",
    "    if found:\n",
    "        # disable that arc\n",
    "        network_directed[most_profitable_index][9] = 0\n",
    "\n",
    "    # now repeat the above steps for the whole network again\n",
    "    # until we go through without finding a more profitable setup than what we already have\n",
    "    else:\n",
    "        break"
   ]
  },
  {
   "cell_type": "markdown",
   "metadata": {},
   "source": [
    "### Then we disconnect all the houses that are no longer served by active arcs, and prune any stranded arcs that remained on un-connected paths."
   ]
  },
  {
   "cell_type": "code",
   "execution_count": null,
   "metadata": {},
   "outputs": [],
   "source": [
    "# now we need to tell the houses that aren't connected, that they aren't connected (or vice-versa)\n",
    "# recurse from the starting point and ID connected houses as connected?\n",
    "def connect_houses(nodes, network, index):\n",
    "    # start from base, follow connection (similar to calculate_profit) and swith node[6] to 1 wherever connected\n",
    "    # and only follow the paths of connected houses\n",
    "    \n",
    "    # this node is connected\n",
    "    nodes[index][6] = 1\n",
    "    \n",
    "    connected_arcs = [network[arc_index] for arc_index in nodes[index][7:]]\n",
    "    for arc in connected_arcs:\n",
    "        if arc[9] == 1 and arc[5] == index:\n",
    "            connect_houses(nodes, network, arc[6])\n",
    "            \n",
    "    return nodes, network\n",
    "    \n",
    "nodes, network_directed = connect_houses(nodes, network_directed, 0)\n",
    "\n",
    "# and do the same for the stranded arcs\n",
    "for node in nodes:\n",
    "    if node[6] == 0:\n",
    "        connected_arcs = [network[arc_index] for arc_index in node[7:]]\n",
    "        for arc in connected_arcs:\n",
    "            arc[9] = 0"
   ]
  },
  {
   "cell_type": "markdown",
   "metadata": {},
   "source": [
    "### And calculate some quick summary numbers for the village"
   ]
  },
  {
   "cell_type": "code",
   "execution_count": null,
   "metadata": {},
   "outputs": [],
   "source": [
    "# create a quick report\n",
    "# number connected, length of line, total profit over ten years\n",
    "count_nodes = 0\n",
    "income = 0\n",
    "for node in nodes:\n",
    "    if node[6] == 1:\n",
    "        count_nodes += 1\n",
    "        income += node[3]\n",
    "\n",
    "total_length = 0.0\n",
    "total_potential_length = 0.0\n",
    "for arc in network_directed:\n",
    "    if arc[9] == 1:\n",
    "        total_length += arc[8]\n",
    "    total_potential_length += arc[8]\n",
    "\n",
    "capex = price_pv + price_conn * count_nodes + total_length * price_wire\n",
    "opex = (price_maintenance * capex) * years\n",
    "total_income = income * years"
   ]
  },
  {
   "cell_type": "markdown",
   "metadata": {},
   "source": [
    "### And then do a spatial join to get the results back into a polygon shapefile"
   ]
  },
  {
   "cell_type": "code",
   "execution_count": null,
   "metadata": {},
   "outputs": [],
   "source": [
    "# join the resultant points with the orignal buildings_projected\n",
    "nodes_for_df = [node[0:7] for node in nodes]\n",
    "nodes_df = pd.DataFrame(columns=['idx', 'X', 'Y', 'income', 'marg_dist', 'tot_dist',\n",
    "                                  'connected'], data=nodes_for_df)\n",
    "nodes_geometry = [Point(xy) for xy in zip(nodes_df['X'], nodes_df['Y'])]\n",
    "nodes_gdf = gpd.GeoDataFrame(nodes_df, crs=buildings_projected.crs, geometry=nodes_geometry)\n",
    "\n",
    "network_df = pd.DataFrame(columns=['idx', 'xs', 'ys', 'xe', 'ye', 'node_start', 'node_end',\n",
    "                                   'directed', 'length', 'enabled'], data=network)\n",
    "LineString([(arc[1], arc[2]), (arc[3], arc[4])])\n",
    "network_geometry = [LineString([(arc[1], arc[2]), (arc[3], arc[4])]) for arc in network]\n",
    "network_gdf = gpd.GeoDataFrame(network_df, crs=buildings_projected.crs, geometry=network_geometry)\n",
    "\n",
    "buildings_joined = gpd.sjoin(buildings_projected, nodes_gdf)"
   ]
  },
  {
   "cell_type": "markdown",
   "metadata": {},
   "source": [
    "### Before mapping the results and saving the output into two shapefiles!"
   ]
  },
  {
   "cell_type": "code",
   "execution_count": null,
   "metadata": {},
   "outputs": [],
   "source": [
    "# project back to an unprojected (i.e., in degrees) CRS\n",
    "network_wgs84 = network_gdf.copy()\n",
    "network_wgs84 = network_wgs84.to_crs(epsg=4326)\n",
    "network_wgs84 = network_wgs84.loc[network_wgs84['enabled'] == 1]\n",
    "\n",
    "buildings_wgs84 = buildings_joined.copy()\n",
    "buildings_wgs84 = buildings_wgs84.to_crs(epsg=4326)\n",
    "buildings_wgs84 = buildings_wgs84.loc[buildings_wgs84['connected'] == 1]\n",
    "\n",
    "nodes_wgs84 = nodes_gdf.copy()\n",
    "nodes_wgs84 = nodes_wgs84.to_crs(epsg=4326)\n",
    "nodes_wgs84 = nodes_wgs84.loc[nodes_wgs84['connected'] == 1]\n",
    "\n",
    "village_map = folium.Map([y_mean, x_mean], zoom_start=15)\n",
    "\n",
    "for index, row in network_wgs84.iterrows():\n",
    "    # Can't use row.geometry.coords because Folium interprets X and Y the other way around, for whatever reason\n",
    "    coords = list(row.geometry.coords)\n",
    "    xs = coords[0][0]\n",
    "    ys = coords[0][1]\n",
    "    xe = coords[1][0]\n",
    "    ye = coords[1][1]\n",
    "    folium.PolyLine([(ys, xs), (ye, xe)]).add_to(village_map)\n",
    "\n",
    "folium.Marker([latitude, longitude]).add_to(village_map)\n",
    "    \n",
    "\"\"\"    \n",
    "for index, row in nodes_wgs84.iterrows():\n",
    "    # Can't use row.geometry.coords directly because Folium interprets X and Y the other way around, for whatever reason\n",
    "    coords = list(row.geometry.coords)\n",
    "    x = coords[0][0]\n",
    "    y = coords[0][1]\n",
    "    folium.Marker([y, x]).add_to(village_map)\n",
    "\"\"\"\n",
    "\n",
    "display(Markdown(f'Total houses connected: {count_nodes} out of {len(nodes)-1}'))\n",
    "display(Markdown(f'Total length of lines is {total_length:.0f}m'))\n",
    "display(Markdown(f'CAPEX: ${capex:.0f}'))\n",
    "display(Markdown(f'OPEX: ${opex:.0f}'))\n",
    "display(Markdown(f'Income: ${total_income:.0f}'))\n",
    "display(Markdown(f'**Total profit over {years} years is ${most_profitable:.0f}**'))\n",
    "display(village_map)\n",
    "\n",
    "buildings_wgs84.to_file(output_file_buildings)\n",
    "network_wgs84.to_file(output_file_network)\n",
    "pv_point.to_file(output_file_pv)"
   ]
  },
  {
   "cell_type": "code",
   "execution_count": null,
   "metadata": {},
   "outputs": [],
   "source": []
  }
 ],
 "metadata": {
  "kernelspec": {
   "display_name": "Python 3",
   "language": "python",
   "name": "python3"
  },
  "language_info": {
   "codemirror_mode": {
    "name": "ipython",
    "version": 3
   },
   "file_extension": ".py",
   "mimetype": "text/x-python",
   "name": "python",
   "nbconvert_exporter": "python",
   "pygments_lexer": "ipython3",
   "version": "3.6.5"
  }
 },
 "nbformat": 4,
 "nbformat_minor": 2
}
